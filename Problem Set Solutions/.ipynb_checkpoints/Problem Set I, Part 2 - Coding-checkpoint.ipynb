{
 "cells": [
  {
   "cell_type": "markdown",
   "metadata": {},
   "source": [
    "\n",
    "## #1 \n",
    "Consider the following finite horizon consumption-savings problem with indivisible labor supply. A household lives from ages t = 1 to t = T and then dies. In every period t, a household chooses consumption ct and whether or not to work. We denote ht = 1 if the household works in period t and ht = 0 if not. The household receives a wage wt if working and an unemploymen benefit b if not working. The household’s Bellman equation is\n",
    "\n",
    "$$ V_t(a) = \\max_{{c,h}} u(c) - \\psi h + \\beta V_{t+1}(a') $$\n",
    "\n",
    "subject to\n",
    "\n",
    "$$ c + a' = (1+r) a + w_t h + b (1 - h)$$\n",
    "$$ a' \\ge 0$$\n",
    "\n",
    "Assume the following functional forms and parameter values\n",
    "\n",
    "$$ u(c) = \\frac{c_{1-\\gamma} -1}{1-\\gamma} $$\n",
    "$$ \\gamma = 2 $$\n",
    "$$ \\beta = 0.97 $$\n",
    "$$ r = 0.03 $$\n",
    "$$ \\psi = 0.1 $$\n",
    "$$ T = 50 $$\n",
    "$$ w_t = \\begin{cases} \\frac{t}{10} & \\text{ if t} \\le \\frac{T}{2}\\\\\n",
    "\\frac{T + 1 - t}{10} & \\text{ if t} > \\frac{T}{2}\n",
    "\\end{cases}$$\n",
    "$$ b = 0.5 $$"
   ]
  },
  {
   "cell_type": "markdown",
   "metadata": {},
   "source": [
    "(a) Write some computer code that uses value function iteration to solve for the households optimal decisions and policy rules and produce a plot of the optimal paths of consumption (c), work (h) and wealth (a) as a function of the household’s age."
   ]
  },
  {
   "cell_type": "code",
   "execution_count": null,
   "metadata": {
    "collapsed": true
   },
   "outputs": [],
   "source": []
  },
  {
   "cell_type": "markdown",
   "metadata": {},
   "source": [
    "(b) Give the economic intuition for why the paths of consumption, work and wealth look the way that they do."
   ]
  },
  {
   "cell_type": "code",
   "execution_count": null,
   "metadata": {
    "collapsed": true
   },
   "outputs": [],
   "source": []
  },
  {
   "cell_type": "markdown",
   "metadata": {},
   "source": [
    "(c) Show how the optimal paths change in each of the following circumstances. In each case, provide the economic intuition behind your result:"
   ]
  },
  {
   "cell_type": "markdown",
   "metadata": {},
   "source": [
    "i. The interest rate falls to r = 0.01."
   ]
  },
  {
   "cell_type": "code",
   "execution_count": null,
   "metadata": {
    "collapsed": true
   },
   "outputs": [],
   "source": []
  },
  {
   "cell_type": "markdown",
   "metadata": {},
   "source": [
    "ii. The household faces a proportional tax τ = 40% on their wage income.\n",
    "Unemployment benefits are not taxed."
   ]
  },
  {
   "cell_type": "code",
   "execution_count": null,
   "metadata": {
    "collapsed": true
   },
   "outputs": [],
   "source": []
  },
  {
   "cell_type": "markdown",
   "metadata": {},
   "source": [
    "iii. Unemployment benefits are reduced to b = 0.1"
   ]
  },
  {
   "cell_type": "code",
   "execution_count": null,
   "metadata": {
    "collapsed": true
   },
   "outputs": [],
   "source": []
  }
 ],
 "metadata": {
  "kernelspec": {
   "display_name": "Python 3",
   "language": "python",
   "name": "python3"
  },
  "language_info": {
   "codemirror_mode": {
    "name": "ipython",
    "version": 3
   },
   "file_extension": ".py",
   "mimetype": "text/x-python",
   "name": "python",
   "nbconvert_exporter": "python",
   "pygments_lexer": "ipython3",
   "version": "3.6.0"
  }
 },
 "nbformat": 4,
 "nbformat_minor": 2
}
